{
  "nbformat": 4,
  "nbformat_minor": 0,
  "metadata": {
    "colab": {
      "name": "RH:CNN.ipynb",
      "provenance": [],
      "collapsed_sections": []
    },
    "kernelspec": {
      "name": "python3",
      "display_name": "Python 3"
    },
    "language_info": {
      "name": "python"
    },
    "accelerator": "GPU"
  },
  "cells": [
    {
      "cell_type": "markdown",
      "source": [
        "This file uses CNN and the full dataset. "
      ],
      "metadata": {
        "id": "mjrRfNLPZEyL"
      }
    },
    {
      "cell_type": "code",
      "execution_count": null,
      "metadata": {
        "id": "LMUkAzleu5oL"
      },
      "outputs": [],
      "source": [
        "import torch\n",
        "import torch.nn as nn\n",
        "import torch.nn.functional as F\n",
        "\n",
        "\n",
        "class CNN(nn.Module):\n",
        "  def __init__(self) -> None:\n",
        "    super().__init__()\n",
        "    self.features = nn.Sequential(\n",
        "            nn.Conv2d(1,16,kernel_size = 5),\n",
        "            nn.ReLU(),\n",
        "            nn.Conv2d(16,8,kernel_size = 5),\n",
        "            nn.ReLU()\n",
        "        )\n",
        "    self.classifier = nn.Sequential(\n",
        "            nn.Linear(1408, 16),\n",
        "            nn.ReLU(),\n",
        "            nn.Linear(16,1)\n",
        "        )\n",
        "\n",
        "\n",
        "  def forward(self, x: torch.Tensor) -> torch.Tensor:\n",
        "    x = self.features(x)\n",
        "    x = torch.flatten(x, 1)\n",
        "    x = self.classifier(x)\n",
        "    return F.sigmoid(x)"
      ]
    },
    {
      "cell_type": "markdown",
      "source": [
        "# New Section"
      ],
      "metadata": {
        "id": "SM6d26ND0EH6"
      }
    },
    {
      "cell_type": "code",
      "source": [
        "loss = nn.CrossEntropyLoss()"
      ],
      "metadata": {
        "id": "2MuTWFr9IvQy"
      },
      "execution_count": null,
      "outputs": []
    },
    {
      "cell_type": "code",
      "source": [
        "device = torch.device('cuda')\n",
        "model = CNN()\n",
        "model = model.to(device)\n",
        "optimizer = torch.optim.SGD(model.parameters(), lr=0.01)"
      ],
      "metadata": {
        "id": "7SaZNIKBI0cv"
      },
      "execution_count": null,
      "outputs": []
    },
    {
      "cell_type": "code",
      "source": [
        "import numpy as np\n",
        "import matplotlib.pyplot as plt\n",
        "import csv\n",
        "import pandas as pd\n",
        "import torch\n",
        "X = pd.read_csv(\"New_X.csv\")\n",
        "Y = pd.read_csv(\"New_Y.csv\")\n",
        "b = np.where(np.isnan(X), 0, X)\n",
        "b1 = np.where(np.isnan(Y), 0, Y)\n",
        "X_train = torch.from_numpy(b).float()\n",
        "Y_train = torch.from_numpy(b1).float()"
      ],
      "metadata": {
        "id": "yEL-bnICJw5G"
      },
      "execution_count": null,
      "outputs": []
    },
    {
      "cell_type": "code",
      "source": [
        "print(X_train.shape)\n",
        "print(Y_train.shape)"
      ],
      "metadata": {
        "id": "-YI80XlvPZVC",
        "outputId": "6a42a980-184a-49b2-83c8-4537eae23434",
        "colab": {
          "base_uri": "https://localhost:8080/"
        }
      },
      "execution_count": null,
      "outputs": [
        {
          "output_type": "stream",
          "name": "stdout",
          "text": [
            "torch.Size([7774, 480])\n",
            "torch.Size([7774, 1])\n"
          ]
        }
      ]
    },
    {
      "cell_type": "code",
      "source": [
        "X_train = torch.reshape(X_train, (7774, 30, 16))"
      ],
      "metadata": {
        "id": "RjsCsqOpPRZx"
      },
      "execution_count": null,
      "outputs": []
    },
    {
      "cell_type": "code",
      "source": [
        "class PathMNISTDataset(torch.utils.data.Dataset):\n",
        "  'Characterizes a dataset for PyTorch'\n",
        "  def __init__(self, X, Y):\n",
        "    self.X = X\n",
        "    self.Y = Y\n",
        "\n",
        "  def __len__(self):\n",
        "    return len(self.X)\n",
        "\n",
        "  def __getitem__(self, index):\n",
        "    return self.X[index][None],self.Y[index]"
      ],
      "metadata": {
        "id": "76BACtFjI3Ng"
      },
      "execution_count": null,
      "outputs": []
    },
    {
      "cell_type": "code",
      "source": [
        "from sklearn.model_selection import train_test_split\n",
        "X_train1, X_test, Y_train1, Y_test = train_test_split(X_train, Y_train)\n",
        "X_train1 = X_train1[:5800,:,:]\n",
        "Y_train1 = Y_train1[:5800,:]\n",
        "#X_test = X_test[:1984,:]\n",
        "#Y_test = Y_test[:1984,:]\n",
        "train_dataset = PathMNISTDataset(X_train1, Y_train1)\n",
        "test_dataset = PathMNISTDataset(X_test, Y_test)"
      ],
      "metadata": {
        "id": "30Kn06hRI6Hy"
      },
      "execution_count": null,
      "outputs": []
    },
    {
      "cell_type": "code",
      "source": [
        "print(X_train1.shape)"
      ],
      "metadata": {
        "colab": {
          "base_uri": "https://localhost:8080/"
        },
        "id": "aUvwUGIdR_9Q",
        "outputId": "88397b87-473c-45ec-addc-b686e211949c"
      },
      "execution_count": null,
      "outputs": [
        {
          "output_type": "stream",
          "name": "stdout",
          "text": [
            "torch.Size([5800, 30, 16])\n"
          ]
        }
      ]
    },
    {
      "cell_type": "code",
      "source": [
        "print(X_test.shape)"
      ],
      "metadata": {
        "colab": {
          "base_uri": "https://localhost:8080/"
        },
        "id": "yJFCDgeCUP0H",
        "outputId": "7ff2e479-ee6b-46ab-8b7e-d31250b37f69"
      },
      "execution_count": null,
      "outputs": [
        {
          "output_type": "stream",
          "name": "stdout",
          "text": [
            "torch.Size([1944, 30, 16])\n"
          ]
        }
      ]
    },
    {
      "cell_type": "code",
      "source": [
        "train_dataloader = torch.utils.data.DataLoader(train_dataset, batch_size=64, shuffle=True, num_workers=1)\n",
        "test_dataloader = torch.utils.data.DataLoader(test_dataset, batch_size=64,shuffle=True, num_workers=1)"
      ],
      "metadata": {
        "id": "JHiQSnMoI8Ha"
      },
      "execution_count": null,
      "outputs": []
    },
    {
      "cell_type": "code",
      "source": [
        "import torch\n",
        "import torch.nn as nn\n",
        "import torch.optim as optim\n",
        "from torch.optim import lr_scheduler\n",
        "import torch.backends.cudnn as cudnn\n",
        "import numpy as np\n",
        "import torchvision\n",
        "from torchvision import datasets, models, transforms\n",
        "import matplotlib.pyplot as plt\n",
        "import time\n",
        "import os\n",
        "import copy\n",
        "criterion = torch.nn.BCELoss()\n",
        "best_model_wts = copy.deepcopy(model.state_dict())\n",
        "best_acc = 0.0\n",
        "t_loss = []\n",
        "for epoch in range(100):\n",
        "\n",
        "  running_loss = 0.0\n",
        "  best_loss = 0.0\n",
        "  running_corrects = 0.0\n",
        "  model.train()\n",
        "\n",
        "  for batch_idx, (data, labels) in enumerate(train_dataloader):\n",
        "    data = data.to(device)\n",
        "    labels = labels.to(device)\n",
        "    optimizer.zero_grad()\n",
        "    outputs = model(data)\n",
        "    loss = criterion(outputs, labels.float())\n",
        "    loss.backward()\n",
        "    optimizer.step()\n",
        "    running_loss += loss.item()\n",
        "    #print (((outputs >= 0.5) == labels.data).shape)\n",
        "    running_corrects += torch.sum((outputs >= 0.5) == labels.data)\n",
        "\n",
        "  epoch_loss = running_loss / len(train_dataset)\n",
        "  epoch_acc = running_corrects.double() / len(train_dataset)\n",
        "  print('Loss: {:.4f}, Accurate: {:4f}'.format(epoch_loss, epoch_acc))\n",
        "  t_loss.append(epoch_loss)\n",
        "\n",
        "  # deep copy the model\n",
        "  if epoch_acc > best_acc:\n",
        "      best_acc = epoch_acc\n",
        "      best_model_wts = copy.deepcopy(model.state_dict())\n",
        "\n",
        "model.load_state_dict(best_model_wts)"
      ],
      "metadata": {
        "colab": {
          "base_uri": "https://localhost:8080/",
          "height": 1000
        },
        "id": "50ZxL89YI-Rs",
        "outputId": "1f0533c3-5170-4e2f-d3c8-3b97296878dd"
      },
      "execution_count": null,
      "outputs": [
        {
          "output_type": "stream",
          "name": "stderr",
          "text": [
            "/usr/local/lib/python3.7/dist-packages/torch/nn/functional.py:1944: UserWarning: nn.functional.sigmoid is deprecated. Use torch.sigmoid instead.\n",
            "  warnings.warn(\"nn.functional.sigmoid is deprecated. Use torch.sigmoid instead.\")\n"
          ]
        },
        {
          "output_type": "stream",
          "name": "stdout",
          "text": [
            "Loss: 0.0110, Accurate: 0.506552\n",
            "Loss: 0.0109, Accurate: 0.526207\n",
            "Loss: 0.0108, Accurate: 0.534655\n",
            "Loss: 0.0107, Accurate: 0.553621\n",
            "Loss: 0.0107, Accurate: 0.563276\n",
            "Loss: 0.0106, Accurate: 0.577414\n",
            "Loss: 0.0106, Accurate: 0.581034\n",
            "Loss: 0.0105, Accurate: 0.593793\n",
            "Loss: 0.0105, Accurate: 0.596379\n",
            "Loss: 0.0104, Accurate: 0.610000\n",
            "Loss: 0.0103, Accurate: 0.614655\n",
            "Loss: 0.0102, Accurate: 0.630000\n",
            "Loss: 0.0101, Accurate: 0.629310\n",
            "Loss: 0.0100, Accurate: 0.645690\n",
            "Loss: 0.0099, Accurate: 0.644828\n",
            "Loss: 0.0098, Accurate: 0.653793\n",
            "Loss: 0.0096, Accurate: 0.662931\n",
            "Loss: 0.0096, Accurate: 0.668448\n",
            "Loss: 0.0094, Accurate: 0.681897\n",
            "Loss: 0.0092, Accurate: 0.692069\n",
            "Loss: 0.0091, Accurate: 0.697759\n",
            "Loss: 0.0089, Accurate: 0.715345\n",
            "Loss: 0.0087, Accurate: 0.722931\n",
            "Loss: 0.0086, Accurate: 0.726379\n",
            "Loss: 0.0083, Accurate: 0.742069\n",
            "Loss: 0.0082, Accurate: 0.741724\n",
            "Loss: 0.0080, Accurate: 0.753103\n",
            "Loss: 0.0077, Accurate: 0.770000\n",
            "Loss: 0.0075, Accurate: 0.774310\n",
            "Loss: 0.0074, Accurate: 0.779483\n",
            "Loss: 0.0070, Accurate: 0.798103\n",
            "Loss: 0.0069, Accurate: 0.791897\n",
            "Loss: 0.0066, Accurate: 0.810862\n",
            "Loss: 0.0065, Accurate: 0.810172\n",
            "Loss: 0.0060, Accurate: 0.834310\n",
            "Loss: 0.0060, Accurate: 0.833793\n",
            "Loss: 0.0056, Accurate: 0.854310\n",
            "Loss: 0.0054, Accurate: 0.855345\n",
            "Loss: 0.0051, Accurate: 0.869310\n",
            "Loss: 0.0049, Accurate: 0.865172\n",
            "Loss: 0.0051, Accurate: 0.864828\n",
            "Loss: 0.0045, Accurate: 0.881207\n",
            "Loss: 0.0045, Accurate: 0.885517\n",
            "Loss: 0.0041, Accurate: 0.906207\n",
            "Loss: 0.0042, Accurate: 0.894310\n",
            "Loss: 0.0030, Accurate: 0.935345\n",
            "Loss: 0.0032, Accurate: 0.927759\n",
            "Loss: 0.0036, Accurate: 0.914310\n",
            "Loss: 0.0033, Accurate: 0.925862\n",
            "Loss: 0.0024, Accurate: 0.952759\n",
            "Loss: 0.0026, Accurate: 0.945690\n",
            "Loss: 0.0021, Accurate: 0.958793\n",
            "Loss: 0.0014, Accurate: 0.978966\n",
            "Loss: 0.0018, Accurate: 0.969655\n",
            "Loss: 0.0015, Accurate: 0.979310\n",
            "Loss: 0.0021, Accurate: 0.960690\n",
            "Loss: 0.0008, Accurate: 0.994138\n"
          ]
        },
        {
          "output_type": "error",
          "ename": "KeyboardInterrupt",
          "evalue": "ignored",
          "traceback": [
            "\u001b[0;31m---------------------------------------------------------------------------\u001b[0m",
            "\u001b[0;31mKeyboardInterrupt\u001b[0m                         Traceback (most recent call last)",
            "\u001b[0;32m<ipython-input-12-373c7f9e190f>\u001b[0m in \u001b[0;36m<module>\u001b[0;34m()\u001b[0m\n\u001b[1;32m     28\u001b[0m     \u001b[0moutputs\u001b[0m \u001b[0;34m=\u001b[0m \u001b[0mmodel\u001b[0m\u001b[0;34m(\u001b[0m\u001b[0mdata\u001b[0m\u001b[0;34m)\u001b[0m\u001b[0;34m\u001b[0m\u001b[0;34m\u001b[0m\u001b[0m\n\u001b[1;32m     29\u001b[0m     \u001b[0mloss\u001b[0m \u001b[0;34m=\u001b[0m \u001b[0mcriterion\u001b[0m\u001b[0;34m(\u001b[0m\u001b[0moutputs\u001b[0m\u001b[0;34m,\u001b[0m \u001b[0mlabels\u001b[0m\u001b[0;34m.\u001b[0m\u001b[0mfloat\u001b[0m\u001b[0;34m(\u001b[0m\u001b[0;34m)\u001b[0m\u001b[0;34m)\u001b[0m\u001b[0;34m\u001b[0m\u001b[0;34m\u001b[0m\u001b[0m\n\u001b[0;32m---> 30\u001b[0;31m     \u001b[0mloss\u001b[0m\u001b[0;34m.\u001b[0m\u001b[0mbackward\u001b[0m\u001b[0;34m(\u001b[0m\u001b[0;34m)\u001b[0m\u001b[0;34m\u001b[0m\u001b[0;34m\u001b[0m\u001b[0m\n\u001b[0m\u001b[1;32m     31\u001b[0m     \u001b[0moptimizer\u001b[0m\u001b[0;34m.\u001b[0m\u001b[0mstep\u001b[0m\u001b[0;34m(\u001b[0m\u001b[0;34m)\u001b[0m\u001b[0;34m\u001b[0m\u001b[0;34m\u001b[0m\u001b[0m\n\u001b[1;32m     32\u001b[0m     \u001b[0mrunning_loss\u001b[0m \u001b[0;34m+=\u001b[0m \u001b[0mloss\u001b[0m\u001b[0;34m.\u001b[0m\u001b[0mitem\u001b[0m\u001b[0;34m(\u001b[0m\u001b[0;34m)\u001b[0m\u001b[0;34m\u001b[0m\u001b[0;34m\u001b[0m\u001b[0m\n",
            "\u001b[0;32m/usr/local/lib/python3.7/dist-packages/torch/_tensor.py\u001b[0m in \u001b[0;36mbackward\u001b[0;34m(self, gradient, retain_graph, create_graph, inputs)\u001b[0m\n\u001b[1;32m    361\u001b[0m                 \u001b[0mcreate_graph\u001b[0m\u001b[0;34m=\u001b[0m\u001b[0mcreate_graph\u001b[0m\u001b[0;34m,\u001b[0m\u001b[0;34m\u001b[0m\u001b[0;34m\u001b[0m\u001b[0m\n\u001b[1;32m    362\u001b[0m                 inputs=inputs)\n\u001b[0;32m--> 363\u001b[0;31m         \u001b[0mtorch\u001b[0m\u001b[0;34m.\u001b[0m\u001b[0mautograd\u001b[0m\u001b[0;34m.\u001b[0m\u001b[0mbackward\u001b[0m\u001b[0;34m(\u001b[0m\u001b[0mself\u001b[0m\u001b[0;34m,\u001b[0m \u001b[0mgradient\u001b[0m\u001b[0;34m,\u001b[0m \u001b[0mretain_graph\u001b[0m\u001b[0;34m,\u001b[0m \u001b[0mcreate_graph\u001b[0m\u001b[0;34m,\u001b[0m \u001b[0minputs\u001b[0m\u001b[0;34m=\u001b[0m\u001b[0minputs\u001b[0m\u001b[0;34m)\u001b[0m\u001b[0;34m\u001b[0m\u001b[0;34m\u001b[0m\u001b[0m\n\u001b[0m\u001b[1;32m    364\u001b[0m \u001b[0;34m\u001b[0m\u001b[0m\n\u001b[1;32m    365\u001b[0m     \u001b[0;32mdef\u001b[0m \u001b[0mregister_hook\u001b[0m\u001b[0;34m(\u001b[0m\u001b[0mself\u001b[0m\u001b[0;34m,\u001b[0m \u001b[0mhook\u001b[0m\u001b[0;34m)\u001b[0m\u001b[0;34m:\u001b[0m\u001b[0;34m\u001b[0m\u001b[0;34m\u001b[0m\u001b[0m\n",
            "\u001b[0;32m/usr/local/lib/python3.7/dist-packages/torch/autograd/__init__.py\u001b[0m in \u001b[0;36mbackward\u001b[0;34m(tensors, grad_tensors, retain_graph, create_graph, grad_variables, inputs)\u001b[0m\n\u001b[1;32m    173\u001b[0m     Variable._execution_engine.run_backward(  # Calls into the C++ engine to run the backward pass\n\u001b[1;32m    174\u001b[0m         \u001b[0mtensors\u001b[0m\u001b[0;34m,\u001b[0m \u001b[0mgrad_tensors_\u001b[0m\u001b[0;34m,\u001b[0m \u001b[0mretain_graph\u001b[0m\u001b[0;34m,\u001b[0m \u001b[0mcreate_graph\u001b[0m\u001b[0;34m,\u001b[0m \u001b[0minputs\u001b[0m\u001b[0;34m,\u001b[0m\u001b[0;34m\u001b[0m\u001b[0;34m\u001b[0m\u001b[0m\n\u001b[0;32m--> 175\u001b[0;31m         allow_unreachable=True, accumulate_grad=True)  # Calls into the C++ engine to run the backward pass\n\u001b[0m\u001b[1;32m    176\u001b[0m \u001b[0;34m\u001b[0m\u001b[0m\n\u001b[1;32m    177\u001b[0m def grad(\n",
            "\u001b[0;31mKeyboardInterrupt\u001b[0m: "
          ]
        }
      ]
    },
    {
      "cell_type": "code",
      "source": [
        "def check_accuracy(test_loader, model):\n",
        "  num_correct = 0\n",
        "  total = 0\n",
        "  model.eval()\n",
        "  with torch.no_grad():\n",
        "    for batch_idx, (data, labels) in enumerate(test_loader):\n",
        "      data = data.to(device)\n",
        "      labels = labels.to(device)\n",
        "      predictions = model(data)\n",
        "      num_correct += ((predictions>=0.5) == labels).sum()\n",
        "      total += len(labels)\n",
        "    print(float(num_correct)/float(total))"
      ],
      "metadata": {
        "id": "tHeiHILbJBSm"
      },
      "execution_count": null,
      "outputs": []
    },
    {
      "cell_type": "code",
      "source": [
        "check_accuracy(test_dataloader, model)"
      ],
      "metadata": {
        "colab": {
          "base_uri": "https://localhost:8080/"
        },
        "id": "depMIze0MUKU",
        "outputId": "bcab6373-7601-46b4-8b22-500d28d2e36d"
      },
      "execution_count": null,
      "outputs": [
        {
          "output_type": "stream",
          "name": "stdout",
          "text": [
            "0.48045267489711935\n"
          ]
        },
        {
          "output_type": "stream",
          "name": "stderr",
          "text": [
            "/usr/local/lib/python3.7/dist-packages/torch/nn/functional.py:1944: UserWarning: nn.functional.sigmoid is deprecated. Use torch.sigmoid instead.\n",
            "  warnings.warn(\"nn.functional.sigmoid is deprecated. Use torch.sigmoid instead.\")\n"
          ]
        }
      ]
    },
    {
      "cell_type": "code",
      "source": [
        "plt.plot(t_loss)"
      ],
      "metadata": {
        "colab": {
          "base_uri": "https://localhost:8080/",
          "height": 283
        },
        "id": "f62jlzEfVHwv",
        "outputId": "8268382c-7085-4440-cc81-4642ce019a30"
      },
      "execution_count": null,
      "outputs": [
        {
          "output_type": "execute_result",
          "data": {
            "text/plain": [
              "[<matplotlib.lines.Line2D at 0x7f11a5d037d0>]"
            ]
          },
          "metadata": {},
          "execution_count": 15
        },
        {
          "output_type": "display_data",
          "data": {
            "text/plain": [
              "<Figure size 432x288 with 1 Axes>"
            ],
            "image/png": "[encoded data removed]"
          },
          "metadata": {
            "needs_background": "light"
          }
        }
      ]
    }
  ]
}